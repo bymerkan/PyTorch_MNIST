{
 "cells": [
  {
   "cell_type": "markdown",
   "metadata": {},
   "source": [
    "# CSE 6040, Fall 2015 [01]: Intro to Python\n",
    "\n",
    "In this class, you will do a lot of development in the [Python](http://python.org) language. Python is great for rapid prototyping, meaning you can get started quickly. Yet, it's much more than a toy language, and so very practical for industrial use. In fact, Python is one of the 3 main languages in use at Google's _production_ code!\n",
    "\n",
    "> Q: Can you name the other two languages?\n",
    "\n",
    "It also has extensive library support, meaning a lot of the code you will need day-to-day already exists -- you just need to find it, download it (if necessary), and start using it in your own programs.\n",
    "\n",
    "Right now, you are looking at an [IPython notebook](http://ipython.org/). An IPython notebook is a document that mixes text, code, and code output. It's a little bit different than running Python from an interpreter command-line, which you may have done at the [MS Analytics Python 101 Bootcamp](https://piazza.com/class/id5sef06fsf46v?cid=7). We will use them for in-class exercises because, from a teaching and learning point of view, it's a great way to create structured, self-documenting worksheets that you can play with and revise.\n",
    "\n",
    "The goal of this notebook is to introduce you to how IPython notebooks work and practice writing some Python code.\n",
    "\n",
    "> Note: For a different tutorial, refer to the [one included in the Python documentation](https://docs.python.org/2/tutorial/index.html) or the MSA Python 101 Boot Camp (see above)."
   ]
  }
 ]
}
